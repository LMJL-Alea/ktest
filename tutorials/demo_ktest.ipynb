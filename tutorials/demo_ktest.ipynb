{
 "cells": [
  {
   "cell_type": "code",
   "execution_count": 14,
   "id": "2206c7f8-76c4-4c3d-b719-6070f7e4d87c",
   "metadata": {},
   "outputs": [],
   "source": [
    "import pandas as pd\n",
    "from tester import Ktest"
   ]
  },
  {
   "cell_type": "markdown",
   "id": "a2064e84-bfa8-4ce4-b993-2e9f9cb16c7e",
   "metadata": {},
   "source": [
    "# Ktest: two-sample kernel tests for large datasets\n",
    "## Functionalities demonstrated on real data"
   ]
  },
  {
   "cell_type": "markdown",
   "id": "d2f44738-d76f-4061-9a2d-925dba89983c",
   "metadata": {},
   "source": [
    "Loading data:"
   ]
  },
  {
   "cell_type": "code",
   "execution_count": 2,
   "id": "818a5126-479d-4532-9a75-d4c2cb284e4a",
   "metadata": {},
   "outputs": [],
   "source": [
    "data = pd.read_csv('v5_data/RTqPCR_reversion_logcentered.csv', index_col=0)"
   ]
  },
  {
   "cell_type": "markdown",
   "id": "3a197a63-8919-4d8c-8489-373098732cf7",
   "metadata": {},
   "source": [
    "Constructing metadata and instantiating Ktest:"
   ]
  },
  {
   "cell_type": "code",
   "execution_count": 3,
   "id": "0ddf9123-e2d1-4178-81be-f618e2f71451",
   "metadata": {},
   "outputs": [
    {
     "name": "stdout",
     "output_type": "stream",
     "text": [
      "An object of class Ktest.\n",
      "83 features across 339 observations\n",
      "Comparison: 48HREV (171 observations) and 48HDIFF (168 observations).\n",
      "___Multivariate test results___\n",
      "MMD:\n",
      "not computed, run ktest.test.\n",
      "kFDA:\n",
      "not computed, run ktest.test.\n"
     ]
    }
   ],
   "source": [
    "meta = pd.Series(data = pd.Series(data.index).apply(lambda x : x.split(sep='.')[1]))\n",
    "meta.index = data.index\n",
    "kt_1 = Ktest(data=data, metadata=meta, sample_names=['48HREV','48HDIFF'])\n",
    "print(kt_1)"
   ]
  },
  {
   "cell_type": "markdown",
   "id": "23938829-765a-4d62-b0da-c176d300b9e4",
   "metadata": {},
   "source": [
    "Performing multivariate test (default setting):"
   ]
  },
  {
   "cell_type": "code",
   "execution_count": 4,
   "id": "290ec728-4451-4f74-9be7-a999b286e03c",
   "metadata": {},
   "outputs": [
    {
     "name": "stdout",
     "output_type": "stream",
     "text": [
      "- Computing kFDA statistic\n",
      "- Computing asymptotic p-values\n"
     ]
    }
   ],
   "source": [
    "kt_1.test()"
   ]
  },
  {
   "cell_type": "code",
   "execution_count": 5,
   "id": "b0f7ffd6-81ed-4cea-a6c1-134dab22c3cd",
   "metadata": {},
   "outputs": [
    {
     "name": "stdout",
     "output_type": "stream",
     "text": [
      "An object of class Ktest.\n",
      "83 features across 339 observations\n",
      "Comparison: 48HREV (171 observations) and 48HDIFF (168 observations).\n",
      "___Multivariate test results___\n",
      "MMD:\n",
      "not computed, run ktest.test.\n",
      "kFDA:\n",
      "Truncation 1: 117.43187874099617, pvalue: asymptotic - 2.3089574670908834e-27,\n",
      "permutation - not computed.\n",
      "Truncation 2: 159.66777872775367, pvalue: asymptotic - 2.1309947530545922e-35,\n",
      "permutation - not computed.\n",
      "Truncation 3: 208.18560203300848, pvalue: asymptotic - 7.18302843947566e-45,\n",
      "permutation - not computed.\n",
      "Truncation 4: 415.74023080466327, pvalue: asymptotic - 1.1041605715456346e-88,\n",
      "permutation - not computed.\n",
      "Truncation 5: 468.52865047574164, pvalue: asymptotic - 4.94307382314933e-99,\n",
      "permutation - not computed.\n"
     ]
    }
   ],
   "source": [
    "print(kt_1)"
   ]
  },
  {
   "cell_type": "markdown",
   "id": "bfd6c745-46ab-4ff6-a6e2-1af737e8eef3",
   "metadata": {},
   "source": [
    "As a result, kFDA statistic with assiciated asymptotic p-values for each truncation were calculated. The latter are stored respectively in attributes `kfdat` and `pval_kfdat_asymp`:"
   ]
  },
  {
   "cell_type": "code",
   "execution_count": 5,
   "id": "7b46789c-7edd-495d-87a3-3bc728d224fe",
   "metadata": {},
   "outputs": [
    {
     "data": {
      "text/plain": [
       "1       117.431879\n",
       "2       159.667779\n",
       "3       208.185602\n",
       "4       415.740231\n",
       "5       468.528650\n",
       "          ...     \n",
       "335    5505.910999\n",
       "336    5508.706471\n",
       "337    5943.961903\n",
       "338    6394.955057\n",
       "339    7601.363086\n",
       "Length: 339, dtype: float64"
      ]
     },
     "execution_count": 5,
     "metadata": {},
     "output_type": "execute_result"
    }
   ],
   "source": [
    "kt_1.kfdat"
   ]
  },
  {
   "cell_type": "code",
   "execution_count": 6,
   "id": "b31bcadb-a3b3-41c4-80ea-3dadea9847c2",
   "metadata": {},
   "outputs": [
    {
     "data": {
      "text/plain": [
       "0      2.308957e-27\n",
       "1      2.130995e-35\n",
       "2      7.183028e-45\n",
       "3      1.104161e-88\n",
       "4      4.943074e-99\n",
       "           ...     \n",
       "334    0.000000e+00\n",
       "335    0.000000e+00\n",
       "336    0.000000e+00\n",
       "337    0.000000e+00\n",
       "338    0.000000e+00\n",
       "Length: 339, dtype: float64"
      ]
     },
     "execution_count": 6,
     "metadata": {},
     "output_type": "execute_result"
    }
   ],
   "source": [
    "kt_1.pval_kfdat_asymp"
   ]
  },
  {
   "cell_type": "markdown",
   "id": "f41bca42-d581-439f-aa61-4f46ae83d732",
   "metadata": {},
   "source": [
    "Alongside with asymptotic p-values, permutation-based p-values can be calcultated and stored in `pval_kfdat_perm`:"
   ]
  },
  {
   "cell_type": "code",
   "execution_count": 8,
   "id": "76d7b20d-e8a2-446c-9ce6-36637edef778",
   "metadata": {},
   "outputs": [
    {
     "name": "stdout",
     "output_type": "stream",
     "text": [
      "- Computing kFDA statistic\n",
      "- Performing permutations to compute p-values:\n"
     ]
    },
    {
     "name": "stderr",
     "output_type": "stream",
     "text": [
      "100%|█████████████████████████████████████| 10000/10000 [06:59<00:00, 23.85it/s]\n"
     ]
    }
   ],
   "source": [
    "kt_1.test(permutation=True, n_permutations=int(1e4))"
   ]
  },
  {
   "cell_type": "code",
   "execution_count": 9,
   "id": "f63bafb0-db8f-4e9e-98b6-fb92f1b4f596",
   "metadata": {},
   "outputs": [
    {
     "name": "stdout",
     "output_type": "stream",
     "text": [
      "An object of class Ktest.\n",
      "83 features across 339 observations\n",
      "Comparison: 48HREV (171 observations) and 48HDIFF (168 observations).\n",
      "___Multivariate test results___\n",
      "MMD:\n",
      "not computed, run ktest.test.\n",
      "kFDA:\n",
      "Truncation 1: 117.43187874099617, pvalue: asymptotic - 2.3089574670908834e-27,\n",
      "permutation - 0.0.\n",
      "Truncation 2: 159.66777872775367, pvalue: asymptotic - 2.1309947530545922e-35,\n",
      "permutation - 0.0.\n",
      "Truncation 3: 208.18560203300848, pvalue: asymptotic - 7.18302843947566e-45,\n",
      "permutation - 0.0.\n",
      "Truncation 4: 415.74023080466327, pvalue: asymptotic - 1.1041605715456346e-88,\n",
      "permutation - 0.0.\n",
      "Truncation 5: 468.52865047574164, pvalue: asymptotic - 4.94307382314933e-99,\n",
      "permutation - 0.0.\n"
     ]
    }
   ],
   "source": [
    "print(kt_1)"
   ]
  },
  {
   "cell_type": "markdown",
   "id": "c909e189-877a-4b88-9d24-a1c13b820d09",
   "metadata": {},
   "source": [
    "Alternatively to kFDA, MMD test statistic can also be calculated (for p-values, only permutation version is available). The statistic and the p-value are stored in `mmd` and `pval_mmd` respectively:"
   ]
  },
  {
   "cell_type": "code",
   "execution_count": 10,
   "id": "13c50fa5-8d99-4211-9bda-a1991ee14117",
   "metadata": {},
   "outputs": [
    {
     "name": "stdout",
     "output_type": "stream",
     "text": [
      "- Computing MMD statistic\n",
      "- Performing permutations to compute p-values:\n"
     ]
    },
    {
     "name": "stderr",
     "output_type": "stream",
     "text": [
      "100%|████████████████████████████████████| 10000/10000 [01:09<00:00, 144.30it/s]\n"
     ]
    }
   ],
   "source": [
    "kt_1.test(stat='mmd', permutation=True, n_permutations=int(1e4))"
   ]
  },
  {
   "cell_type": "code",
   "execution_count": 11,
   "id": "dd84e74e-c8d4-4eab-95ed-f1f6bb118e9b",
   "metadata": {},
   "outputs": [
    {
     "name": "stdout",
     "output_type": "stream",
     "text": [
      "An object of class Ktest.\n",
      "83 features across 339 observations\n",
      "Comparison: 48HREV (171 observations) and 48HDIFF (168 observations).\n",
      "___Multivariate test results___\n",
      "MMD:\n",
      "1.5076821888197004e-06, pvalue (permutation test): 0.0.\n",
      "kFDA:\n",
      "Truncation 1: 117.43187874099617, pvalue: asymptotic - 2.3089574670908834e-27,\n",
      "permutation - 0.0.\n",
      "Truncation 2: 159.66777872775367, pvalue: asymptotic - 2.1309947530545922e-35,\n",
      "permutation - 0.0.\n",
      "Truncation 3: 208.18560203300848, pvalue: asymptotic - 7.18302843947566e-45,\n",
      "permutation - 0.0.\n",
      "Truncation 4: 415.74023080466327, pvalue: asymptotic - 1.1041605715456346e-88,\n",
      "permutation - 0.0.\n",
      "Truncation 5: 468.52865047574164, pvalue: asymptotic - 4.94307382314933e-99,\n",
      "permutation - 0.0.\n"
     ]
    }
   ],
   "source": [
    "print(kt_1)"
   ]
  },
  {
   "cell_type": "markdown",
   "id": "eceac163-f689-4b08-a060-9117e3f06280",
   "metadata": {},
   "source": [
    "To speed up calculations, a Nystrom approximation can be performed. One may activate the corresponding option when instantiating Ktest, and customize several parameters such as the number of landmarks/anchors or landmark selection method:"
   ]
  },
  {
   "cell_type": "code",
   "execution_count": 12,
   "id": "d31c4e86-42c8-4f09-9a86-28cf4f3cc112",
   "metadata": {},
   "outputs": [
    {
     "name": "stdout",
     "output_type": "stream",
     "text": [
      "- Computing kFDA statistic\n",
      "- Performing permutations to compute p-values:\n"
     ]
    },
    {
     "name": "stderr",
     "output_type": "stream",
     "text": [
      "100%|███████████████████████████████████| 100000/100000 [37:56<00:00, 43.92it/s]\n"
     ]
    },
    {
     "name": "stdout",
     "output_type": "stream",
     "text": [
      "- Computing MMD statistic\n",
      "- Performing permutations to compute p-values:\n"
     ]
    },
    {
     "name": "stderr",
     "output_type": "stream",
     "text": [
      "100%|███████████████████████████████████| 100000/100000 [31:22<00:00, 53.13it/s]\n"
     ]
    }
   ],
   "source": [
    "n_landmarks = 100\n",
    "landmark_method = 'kmeans++'\n",
    "n_anchors = 30\n",
    "kt_2 = Ktest(data=data, metadata=meta, nystrom=True, n_landmarks=n_landmarks,\n",
    "             landmark_method=landmark_method, n_anchors=n_anchors)\n",
    "# kFDA:\n",
    "kt_2.test(permutation=True, n_permutations=int(1e5))\n",
    "\n",
    "# MMD:\n",
    "kt_2.test(stat='mmd', n_permutations=int(1e5))"
   ]
  },
  {
   "cell_type": "code",
   "execution_count": 13,
   "id": "2c6f7699-182b-4e9b-abef-6291e024d10d",
   "metadata": {},
   "outputs": [
    {
     "name": "stdout",
     "output_type": "stream",
     "text": [
      "An object of class Ktest.\n",
      "83 features across 346 observations\n",
      "Comparison: 0H (173 observations) and 24H (173 observations).\n",
      "Nystrom approximation with 50 landmarks.\n",
      "___Multivariate test results___\n",
      "MMD:\n",
      "nan, pvalue (permutation test): 0.0.\n",
      "kFDA:\n",
      "Truncation 1: 61.228711240255166, pvalue: asymptotic - not computed,\n",
      "permutation - 0.0.\n",
      "Truncation 2: 88.26828792827772, pvalue: asymptotic - not computed,\n",
      "permutation - 0.0.\n",
      "Truncation 3: 123.17619453259113, pvalue: asymptotic - not computed,\n",
      "permutation - 0.0.\n",
      "Truncation 4: 418.5170170943204, pvalue: asymptotic - not computed,\n",
      "permutation - 0.0.\n",
      "Truncation 5: 446.46639300102913, pvalue: asymptotic - not computed,\n",
      "permutation - 0.0.\n"
     ]
    }
   ],
   "source": [
    "print(kt_2)"
   ]
  }
 ],
 "metadata": {
  "kernelspec": {
   "display_name": "Python 3 (ipykernel)",
   "language": "python",
   "name": "python3"
  },
  "language_info": {
   "codemirror_mode": {
    "name": "ipython",
    "version": 3
   },
   "file_extension": ".py",
   "mimetype": "text/x-python",
   "name": "python",
   "nbconvert_exporter": "python",
   "pygments_lexer": "ipython3",
   "version": "3.11.3"
  }
 },
 "nbformat": 4,
 "nbformat_minor": 5
}
