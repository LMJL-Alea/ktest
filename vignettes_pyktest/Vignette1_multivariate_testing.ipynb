{
 "cells": [
  {
   "cell_type": "code",
   "execution_count": 1,
   "id": "e0661762",
   "metadata": {},
   "outputs": [],
   "source": [
    "import pandas as pd\n",
    "from ktest.tester import Ktest"
   ]
  },
  {
   "cell_type": "markdown",
   "id": "4ab215d5",
   "metadata": {},
   "source": [
    "Load data and metadata, and initialize ktest object \n",
    "\n",
    "The argument condition refers to the column of the metadata dataframe containing the labels to test. "
   ]
  },
  {
   "cell_type": "code",
   "execution_count": 2,
   "id": "a5030f86",
   "metadata": {},
   "outputs": [],
   "source": [
    "data = pd.read_csv('data.csv',index_col=0)\n",
    "metadata = pd.read_csv('metadata.csv',index_col=0)\n",
    "kt = Ktest(data,metadata,condition='condition',samples=['c2','c3'])"
   ]
  },
  {
   "cell_type": "markdown",
   "id": "ea0548e7",
   "metadata": {},
   "source": [
    "Perform a multivariate test"
   ]
  },
  {
   "cell_type": "code",
   "execution_count": 3,
   "id": "cbbeeb4b",
   "metadata": {},
   "outputs": [
    {
     "name": "stdout",
     "output_type": "stream",
     "text": [
      "- Initialize kfdat \n",
      "- Diagonalize within covariance centered gram\n",
      "- Compute within covariance centered gram\n",
      "- Compute kfda statistic\n",
      "\n",
      "___Multivariate kfda test results___\n",
      "Asymptotic p-value(truncation) for multivariate testing : \n",
      "\tp-value(10) = 0.0e+00 (kfda=1.47e+04)\n"
     ]
    }
   ],
   "source": [
    "kt.multivariate_test(verbose=1)"
   ]
  },
  {
   "cell_type": "markdown",
   "id": "e7aa60ad",
   "metadata": {},
   "source": [
    "Use the nystrom approximation to reduce the computational cost"
   ]
  },
  {
   "cell_type": "code",
   "execution_count": 4,
   "id": "4f68fe25",
   "metadata": {},
   "outputs": [
    {
     "name": "stdout",
     "output_type": "stream",
     "text": [
      "- Initialize kfdat with nystrom approximation\n",
      "- Initialize nystrom parameters\n",
      "- Compute nystrom landmarks (500 landmarks)\n",
      "- Compute nystrom anchors (50 anchors)\n",
      "- Diagonalize within covariance centered gram\n",
      "- Compute within covariance centered gram\n",
      "- Compute kfda statistic\n",
      "\n",
      "___Multivariate kfda with nystrom test results___\n",
      "Asymptotic p-value(truncation) for multivariate testing : \n",
      "\tp-value(10) = 0.0e+00 (kfda=1.47e+04)\n"
     ]
    }
   ],
   "source": [
    "kt.set_test_params(nystrom=True)\n",
    "kt.multivariate_test(verbose=1)"
   ]
  },
  {
   "cell_type": "markdown",
   "id": "9d7859a9",
   "metadata": {},
   "source": [
    "Tune each parameter of the nystrom approximation "
   ]
  },
  {
   "cell_type": "code",
   "execution_count": 5,
   "id": "69c7abf3",
   "metadata": {},
   "outputs": [
    {
     "name": "stdout",
     "output_type": "stream",
     "text": [
      "- Initialize kfdat with nystrom approximation\n",
      "- Initialize nystrom parameters\n",
      "- Compute nystrom landmarks (50 landmarks)\n",
      "- Compute nystrom anchors (33 anchors)\n",
      "- Diagonalize within covariance centered gram\n",
      "- Compute within covariance centered gram\n",
      "- Compute kfda statistic\n",
      "\n",
      "___Multivariate kfda with nystrom test results___\n",
      "Asymptotic p-value(truncation) for multivariate testing : \n",
      "\tp-value(10) = 0.0e+00 (kfda=1.47e+04)\n"
     ]
    }
   ],
   "source": [
    "kt.set_test_params(nystrom=True,\n",
    "                    n_landmarks=50,\n",
    "                    n_anchors=50,\n",
    "                    landmark_method='random',\n",
    "                    anchor_basis='s')\n",
    "kt.multivariate_test(verbose=1)\n"
   ]
  },
  {
   "cell_type": "code",
   "execution_count": null,
   "id": "92a823e6",
   "metadata": {},
   "outputs": [],
   "source": []
  },
  {
   "cell_type": "code",
   "execution_count": null,
   "id": "feab662a",
   "metadata": {},
   "outputs": [],
   "source": []
  },
  {
   "cell_type": "code",
   "execution_count": null,
   "id": "715fcaf7",
   "metadata": {},
   "outputs": [],
   "source": []
  }
 ],
 "metadata": {
  "kernelspec": {
   "display_name": "Python 3 (ipykernel)",
   "language": "python",
   "name": "python3"
  },
  "language_info": {
   "codemirror_mode": {
    "name": "ipython",
    "version": 3
   },
   "file_extension": ".py",
   "mimetype": "text/x-python",
   "name": "python",
   "nbconvert_exporter": "python",
   "pygments_lexer": "ipython3",
   "version": "3.8.15"
  }
 },
 "nbformat": 4,
 "nbformat_minor": 5
}
