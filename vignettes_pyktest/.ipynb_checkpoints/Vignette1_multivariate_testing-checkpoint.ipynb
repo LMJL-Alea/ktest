{
 "cells": [
  {
   "cell_type": "code",
   "execution_count": 1,
   "id": "e0661762",
   "metadata": {},
   "outputs": [],
   "source": [
    "import pandas as pd\n",
    "from ktest.tester import Ktest"
   ]
  },
  {
   "cell_type": "markdown",
   "id": "4ab215d5",
   "metadata": {},
   "source": [
    "Load data and metadata, and initialize ktest object \n",
    "\n",
    "The argument condition refers to the column of the metadata dataframe containing the labels to test. "
   ]
  },
  {
   "cell_type": "code",
   "execution_count": 5,
   "id": "a5030f86",
   "metadata": {},
   "outputs": [],
   "source": [
    "data = pd.read_csv('data.csv',index_col=0)\n",
    "metadata = pd.read_csv('metadata.csv',index_col=0)\n",
    "kt = Ktest(data,metadata,condition='condition',samples=[1,2])"
   ]
  },
  {
   "cell_type": "code",
   "execution_count": 8,
   "id": "5f0a8463",
   "metadata": {},
   "outputs": [
    {
     "data": {
      "text/plain": [
       "{'1': tensor([], size=(0, 2), dtype=torch.float64),\n",
       " '2': tensor([], size=(0, 2), dtype=torch.float64)}"
      ]
     },
     "execution_count": 8,
     "metadata": {},
     "output_type": "execute_result"
    }
   ],
   "source": [
    "kt.get_data()"
   ]
  },
  {
   "cell_type": "markdown",
   "id": "ea0548e7",
   "metadata": {},
   "source": [
    "Perform a multivariate test"
   ]
  },
  {
   "cell_type": "code",
   "execution_count": 6,
   "id": "cbbeeb4b",
   "metadata": {},
   "outputs": [
    {
     "name": "stdout",
     "output_type": "stream",
     "text": [
      "- Initialize kfdat \n",
      "- Diagonalize within covariance centered gram\n",
      "- Compute within covariance centered gram\n"
     ]
    },
    {
     "name": "stderr",
     "output_type": "stream",
     "text": [
      "/home/anthony/miniconda3/envs/kfda/lib/python3.8/site-packages/ktest/kernel_statistics.py:271: SyntaxWarning: assertion is always true, perhaps remove parentheses?\n",
      "  assert(self.n_anchors is not None,\"n_anchors not specified\")\n",
      "/home/anthony/miniconda3/envs/kfda/lib/python3.8/site-packages/ktest/kernel_statistics.py:271: SyntaxWarning: assertion is always true, perhaps remove parentheses?\n",
      "  assert(self.n_anchors is not None,\"n_anchors not specified\")\n"
     ]
    },
    {
     "ename": "ZeroDivisionError",
     "evalue": "division by zero",
     "output_type": "error",
     "traceback": [
      "\u001b[0;31m---------------------------------------------------------------------------\u001b[0m",
      "\u001b[0;31mZeroDivisionError\u001b[0m                         Traceback (most recent call last)",
      "Cell \u001b[0;32mIn[6], line 1\u001b[0m\n\u001b[0;32m----> 1\u001b[0m \u001b[43mkt\u001b[49m\u001b[38;5;241;43m.\u001b[39;49m\u001b[43mmultivariate_test\u001b[49m\u001b[43m(\u001b[49m\u001b[43mverbose\u001b[49m\u001b[38;5;241;43m=\u001b[39;49m\u001b[38;5;241;43m1\u001b[39;49m\u001b[43m)\u001b[49m\n",
      "File \u001b[0;32m~/miniconda3/envs/kfda/lib/python3.8/site-packages/ktest/tester.py:465\u001b[0m, in \u001b[0;36mKtest.multivariate_test\u001b[0;34m(self, stat, permutation, n_permutations, seed_permutation, n_jobs_permutation, keep_permutation_statistics, verbose)\u001b[0m\n\u001b[1;32m    455\u001b[0m \u001b[38;5;28;01mdef\u001b[39;00m \u001b[38;5;21mmultivariate_test\u001b[39m(\u001b[38;5;28mself\u001b[39m,\n\u001b[1;32m    456\u001b[0m                     stat\u001b[38;5;241m=\u001b[39m\u001b[38;5;28;01mNone\u001b[39;00m,\n\u001b[1;32m    457\u001b[0m                     permutation\u001b[38;5;241m=\u001b[39m\u001b[38;5;28;01mNone\u001b[39;00m,\n\u001b[0;32m   (...)\u001b[0m\n\u001b[1;32m    461\u001b[0m                     keep_permutation_statistics\u001b[38;5;241m=\u001b[39m\u001b[38;5;28;01mFalse\u001b[39;00m,\n\u001b[1;32m    462\u001b[0m                     verbose\u001b[38;5;241m=\u001b[39m\u001b[38;5;241m0\u001b[39m,):\n\u001b[0;32m--> 465\u001b[0m     \u001b[38;5;28;43mself\u001b[39;49m\u001b[38;5;241;43m.\u001b[39;49m\u001b[43mcompute_test_statistic\u001b[49m\u001b[43m(\u001b[49m\u001b[43mstat\u001b[49m\u001b[38;5;241;43m=\u001b[39;49m\u001b[43mstat\u001b[49m\u001b[43m,\u001b[49m\u001b[43mverbose\u001b[49m\u001b[38;5;241;43m=\u001b[39;49m\u001b[43mverbose\u001b[49m\u001b[43m)\u001b[49m\n\u001b[1;32m    466\u001b[0m     \u001b[38;5;28mself\u001b[39m\u001b[38;5;241m.\u001b[39mcompute_pvalue(stat\u001b[38;5;241m=\u001b[39mstat,\n\u001b[1;32m    467\u001b[0m                         permutation\u001b[38;5;241m=\u001b[39mpermutation,\n\u001b[1;32m    468\u001b[0m                         n_permutations\u001b[38;5;241m=\u001b[39mn_permutations,\n\u001b[0;32m   (...)\u001b[0m\n\u001b[1;32m    471\u001b[0m                         keep_permutation_statistics\u001b[38;5;241m=\u001b[39mkeep_permutation_statistics,\n\u001b[1;32m    472\u001b[0m                         verbose\u001b[38;5;241m=\u001b[39mverbose)\n\u001b[1;32m    474\u001b[0m     \u001b[38;5;28;01mif\u001b[39;00m verbose\u001b[38;5;241m>\u001b[39m\u001b[38;5;241m0\u001b[39m:\n",
      "File \u001b[0;32m~/miniconda3/envs/kfda/lib/python3.8/site-packages/ktest/tester.py:448\u001b[0m, in \u001b[0;36mKtest.compute_test_statistic\u001b[0;34m(self, stat, verbose)\u001b[0m\n\u001b[1;32m    445\u001b[0m stat \u001b[38;5;241m=\u001b[39m \u001b[38;5;28mself\u001b[39m\u001b[38;5;241m.\u001b[39mstat \u001b[38;5;28;01mif\u001b[39;00m stat \u001b[38;5;129;01mis\u001b[39;00m \u001b[38;5;28;01mNone\u001b[39;00m \u001b[38;5;28;01melse\u001b[39;00m stat \n\u001b[1;32m    447\u001b[0m \u001b[38;5;28;01mif\u001b[39;00m stat \u001b[38;5;241m==\u001b[39m \u001b[38;5;124m'\u001b[39m\u001b[38;5;124mkfda\u001b[39m\u001b[38;5;124m'\u001b[39m:\n\u001b[0;32m--> 448\u001b[0m     \u001b[38;5;28;43mself\u001b[39;49m\u001b[38;5;241;43m.\u001b[39;49m\u001b[43mkfdat_statistic\u001b[49m\u001b[43m(\u001b[49m\u001b[43mverbose\u001b[49m\u001b[38;5;241;43m=\u001b[39;49m\u001b[43mverbose\u001b[49m\u001b[43m)\u001b[49m\n\u001b[1;32m    449\u001b[0m \u001b[38;5;28;01melif\u001b[39;00m stat \u001b[38;5;241m==\u001b[39m \u001b[38;5;124m'\u001b[39m\u001b[38;5;124mmmd\u001b[39m\u001b[38;5;124m'\u001b[39m:\n\u001b[1;32m    450\u001b[0m     \u001b[38;5;28mself\u001b[39m\u001b[38;5;241m.\u001b[39mmmd_statistic(verbose\u001b[38;5;241m=\u001b[39mverbose)\n",
      "File \u001b[0;32m~/miniconda3/envs/kfda/lib/python3.8/site-packages/ktest/tester.py:407\u001b[0m, in \u001b[0;36mKtest.kfdat_statistic\u001b[0;34m(self, verbose)\u001b[0m\n\u001b[1;32m    404\u001b[0m         \u001b[38;5;28mprint\u001b[39m(\u001b[38;5;124mf\u001b[39m\u001b[38;5;124m'\u001b[39m\u001b[38;5;124mStatistic \u001b[39m\u001b[38;5;132;01m{\u001b[39;00mkn\u001b[38;5;132;01m}\u001b[39;00m\u001b[38;5;124m already computed\u001b[39m\u001b[38;5;124m'\u001b[39m)\n\u001b[1;32m    406\u001b[0m \u001b[38;5;28;01melse\u001b[39;00m:\n\u001b[0;32m--> 407\u001b[0m     \u001b[38;5;28;43mself\u001b[39;49m\u001b[38;5;241;43m.\u001b[39;49m\u001b[43minitialize_kfdat\u001b[49m\u001b[43m(\u001b[49m\u001b[43mverbose\u001b[49m\u001b[38;5;241;43m=\u001b[39;49m\u001b[43mverbose\u001b[49m\u001b[43m)\u001b[49m \u001b[38;5;66;03m# nystrom and eigenvectors. \u001b[39;00m\n\u001b[1;32m    408\u001b[0m     \u001b[38;5;28mself\u001b[39m\u001b[38;5;241m.\u001b[39mcompute_kfdat(verbose\u001b[38;5;241m=\u001b[39mverbose) \u001b[38;5;66;03m# stat \u001b[39;00m\n\u001b[1;32m    410\u001b[0m     \u001b[38;5;66;03m# j'ai enlevé cette condition pour verifier que j'en ai plus besoin. \u001b[39;00m\n\u001b[1;32m    411\u001b[0m     \u001b[38;5;66;03m# if (self.nystrom and self.has_anchors) or not self.nystrom:\u001b[39;00m\n\u001b[1;32m    412\u001b[0m     \u001b[38;5;66;03m#    self.compute_kfdat(verbose=verbose) # stat \u001b[39;00m\n",
      "File \u001b[0;32m~/miniconda3/envs/kfda/lib/python3.8/site-packages/ktest/kernel_statistics.py:234\u001b[0m, in \u001b[0;36mStatistics.initialize_kfdat\u001b[0;34m(self, verbose, **kwargs)\u001b[0m\n\u001b[1;32m    232\u001b[0m \u001b[38;5;66;03m# diagonalisation de la matrice d'intérêt pour calculer la statistique \u001b[39;00m\n\u001b[1;32m    233\u001b[0m \u001b[38;5;28;01mif\u001b[39;00m (\u001b[38;5;28mself\u001b[39m\u001b[38;5;241m.\u001b[39mnystrom \u001b[38;5;129;01mand\u001b[39;00m \u001b[38;5;28mself\u001b[39m\u001b[38;5;241m.\u001b[39mhas_anchors) \u001b[38;5;129;01mor\u001b[39;00m (\u001b[38;5;129;01mnot\u001b[39;00m \u001b[38;5;28mself\u001b[39m\u001b[38;5;241m.\u001b[39mnystrom) :\n\u001b[0;32m--> 234\u001b[0m     \u001b[38;5;28;43mself\u001b[39;49m\u001b[38;5;241;43m.\u001b[39;49m\u001b[43mdiagonalize_within_covariance_centered_gram\u001b[49m\u001b[43m(\u001b[49m\u001b[43mapproximation\u001b[49m\u001b[38;5;241;43m=\u001b[39;49m\u001b[43mcov\u001b[49m\u001b[43m,\u001b[49m\u001b[43mverbose\u001b[49m\u001b[38;5;241;43m=\u001b[39;49m\u001b[43mverbose\u001b[49m\u001b[43m)\u001b[49m\n",
      "File \u001b[0;32m~/miniconda3/envs/kfda/lib/python3.8/site-packages/ktest/gram_matrices.py:283\u001b[0m, in \u001b[0;36mGramMatrices.diagonalize_within_covariance_centered_gram\u001b[0;34m(self, approximation, verbose)\u001b[0m\n\u001b[1;32m    280\u001b[0m     \u001b[38;5;28mprint\u001b[39m(\u001b[38;5;124mf\u001b[39m\u001b[38;5;124m'\u001b[39m\u001b[38;5;124m- Diagonalize within covariance centered gram\u001b[39m\u001b[38;5;124m'\u001b[39m)\n\u001b[1;32m    282\u001b[0m \u001b[38;5;66;03m# calcul de la matrice a diagonaliser\u001b[39;00m\n\u001b[0;32m--> 283\u001b[0m Kw \u001b[38;5;241m=\u001b[39m \u001b[38;5;28;43mself\u001b[39;49m\u001b[38;5;241;43m.\u001b[39;49m\u001b[43mcompute_within_covariance_centered_gram\u001b[49m\u001b[43m(\u001b[49m\u001b[43mapproximation\u001b[49m\u001b[38;5;241;43m=\u001b[39;49m\u001b[43mapproximation\u001b[49m\u001b[43m,\u001b[49m\u001b[43mverbose\u001b[49m\u001b[38;5;241;43m=\u001b[39;49m\u001b[43mverbose\u001b[49m\u001b[43m)\u001b[49m\n\u001b[1;32m    285\u001b[0m \u001b[38;5;66;03m# diagonalisation par la fonction C++ codée par François puis tri décroissant des valeurs propres \u001b[39;00m\n\u001b[1;32m    286\u001b[0m \u001b[38;5;66;03m# et vecteurs prores\u001b[39;00m\n\u001b[1;32m    287\u001b[0m sp,ev \u001b[38;5;241m=\u001b[39m ordered_eigsy(Kw) \n",
      "File \u001b[0;32m~/miniconda3/envs/kfda/lib/python3.8/site-packages/ktest/gram_matrices.py:184\u001b[0m, in \u001b[0;36mGramMatrices.compute_within_covariance_centered_gram\u001b[0;34m(self, approximation, verbose)\u001b[0m\n\u001b[1;32m    182\u001b[0m \u001b[38;5;66;03m# Instantiation de la matrice de centrage P \u001b[39;00m\n\u001b[1;32m    183\u001b[0m quantization \u001b[38;5;241m=\u001b[39m approximation \u001b[38;5;241m==\u001b[39m \u001b[38;5;124m'\u001b[39m\u001b[38;5;124mquantization\u001b[39m\u001b[38;5;124m'\u001b[39m\n\u001b[0;32m--> 184\u001b[0m P \u001b[38;5;241m=\u001b[39m \u001b[38;5;28;43mself\u001b[39;49m\u001b[38;5;241;43m.\u001b[39;49m\u001b[43mcompute_covariance_centering_matrix\u001b[49m\u001b[43m(\u001b[49m\u001b[43mquantization\u001b[49m\u001b[38;5;241;43m=\u001b[39;49m\u001b[43mquantization\u001b[49m\u001b[43m,\u001b[49m\u001b[43mlandmarks\u001b[49m\u001b[38;5;241;43m=\u001b[39;49m\u001b[38;5;28;43;01mFalse\u001b[39;49;00m\u001b[43m)\u001b[49m\n\u001b[1;32m    186\u001b[0m \u001b[38;5;66;03m# Ici n ne correspond pas au nombre d'observations total \u001b[39;00m\n\u001b[1;32m    187\u001b[0m \u001b[38;5;66;03m# mais au nombre d'observations sur lequel est calculé la matrice, déterminé par \u001b[39;00m\n\u001b[1;32m    188\u001b[0m \u001b[38;5;66;03m# le paramètre sample. C'est le 1/n devant la structure de covariance. \u001b[39;00m\n\u001b[1;32m    189\u001b[0m dict_nobs \u001b[38;5;241m=\u001b[39m \u001b[38;5;28mself\u001b[39m\u001b[38;5;241m.\u001b[39mget_nobs(landmarks\u001b[38;5;241m=\u001b[39m\u001b[38;5;28;01mFalse\u001b[39;00m)\n",
      "File \u001b[0;32m~/miniconda3/envs/kfda/lib/python3.8/site-packages/ktest/centering_operations.py:251\u001b[0m, in \u001b[0;36mCenteringOps.compute_covariance_centering_matrix\u001b[0;34m(self, quantization, landmarks)\u001b[0m\n\u001b[1;32m    247\u001b[0m             \u001b[38;5;28mprint\u001b[39m(\u001b[38;5;124m'\u001b[39m\u001b[38;5;124mquantization not implemented yet\u001b[39m\u001b[38;5;124m'\u001b[39m)\n\u001b[1;32m    248\u001b[0m \u001b[38;5;66;03m#                 a1 = self.compute_quantization_weights(sample='x',power=.5,diag=False)\u001b[39;00m\n\u001b[1;32m    249\u001b[0m \u001b[38;5;66;03m#                 Pn1 = (In1 - 1/n * torch.ger(a1,a1)) # a vérifier si c'est 1/n ou 1/n1\u001b[39;00m\n\u001b[0;32m--> 251\u001b[0m         P \u001b[38;5;241m=\u001b[39m \u001b[43mcompute_covariance_centering_matrix_\u001b[49m\u001b[43m(\u001b[49m\u001b[43mn\u001b[49m\u001b[43m,\u001b[49m\u001b[43mdict_nobs\u001b[49m\u001b[43m,\u001b[49m\u001b[43mab\u001b[49m\u001b[43m)\u001b[49m\n\u001b[1;32m    252\u001b[0m         \u001b[38;5;28;01mreturn\u001b[39;00m(P)\n",
      "File \u001b[0;32m~/miniconda3/envs/kfda/lib/python3.8/site-packages/ktest/centering_operations.py:121\u001b[0m, in \u001b[0;36mcompute_covariance_centering_matrix_\u001b[0;34m(n, dict_nobs, ab)\u001b[0m\n\u001b[1;32m    119\u001b[0m     In \u001b[38;5;241m=\u001b[39m eye(n)\n\u001b[1;32m    120\u001b[0m     effectifs \u001b[38;5;241m=\u001b[39m [v \u001b[38;5;28;01mfor\u001b[39;00m k,v \u001b[38;5;129;01min\u001b[39;00m dict_nobs\u001b[38;5;241m.\u001b[39mitems() \u001b[38;5;28;01mif\u001b[39;00m k \u001b[38;5;241m!=\u001b[39m \u001b[38;5;124m'\u001b[39m\u001b[38;5;124mntot\u001b[39m\u001b[38;5;124m'\u001b[39m] \n\u001b[0;32m--> 121\u001b[0m     diag_Jn_by_n \u001b[38;5;241m=\u001b[39m \u001b[43mcompute_diag_Jn_by_n\u001b[49m\u001b[43m(\u001b[49m\u001b[43meffectifs\u001b[49m\u001b[43m)\u001b[49m\n\u001b[1;32m    122\u001b[0m     \u001b[38;5;28;01mreturn\u001b[39;00m(In \u001b[38;5;241m-\u001b[39m diag_Jn_by_n)\n\u001b[1;32m    123\u001b[0m \u001b[38;5;28;01melse\u001b[39;00m:\n",
      "File \u001b[0;32m~/miniconda3/envs/kfda/lib/python3.8/site-packages/ktest/centering_operations.py:47\u001b[0m, in \u001b[0;36mcompute_diag_Jn_by_n\u001b[0;34m(effectifs)\u001b[0m\n\u001b[1;32m     45\u001b[0m cumul_effectifs \u001b[38;5;241m=\u001b[39m np\u001b[38;5;241m.\u001b[39mcumsum([\u001b[38;5;241m0\u001b[39m]\u001b[38;5;241m+\u001b[39meffectifs)\n\u001b[1;32m     46\u001b[0m L,n             \u001b[38;5;241m=\u001b[39m \u001b[38;5;28mlen\u001b[39m(effectifs),np\u001b[38;5;241m.\u001b[39msum(effectifs)\n\u001b[0;32m---> 47\u001b[0m diag_Jn_by_n \u001b[38;5;241m=\u001b[39m cat([\n\u001b[1;32m     48\u001b[0m                     cat([\n\u001b[1;32m     49\u001b[0m                             zeros(nprec,nell,dtype \u001b[38;5;241m=\u001b[39m torch\u001b[38;5;241m.\u001b[39mfloat64),\n\u001b[1;32m     50\u001b[0m                             compute_Jn_by_n(nell),\n\u001b[1;32m     51\u001b[0m                             zeros(n\u001b[38;5;241m-\u001b[39mnprec\u001b[38;5;241m-\u001b[39mnell,nell,dtype \u001b[38;5;241m=\u001b[39m torch\u001b[38;5;241m.\u001b[39mfloat64)\n\u001b[1;32m     52\u001b[0m                         ],dim\u001b[38;5;241m=\u001b[39m\u001b[38;5;241m0\u001b[39m) \n\u001b[1;32m     53\u001b[0m                         \u001b[38;5;28;01mfor\u001b[39;00m nell,nprec \u001b[38;5;129;01min\u001b[39;00m \u001b[38;5;28mzip\u001b[39m(effectifs,cumul_effectifs)\n\u001b[1;32m     54\u001b[0m                     ],dim\u001b[38;5;241m=\u001b[39m\u001b[38;5;241m1\u001b[39m)\n\u001b[1;32m     55\u001b[0m \u001b[38;5;28;01mreturn\u001b[39;00m(diag_Jn_by_n)\n",
      "File \u001b[0;32m~/miniconda3/envs/kfda/lib/python3.8/site-packages/ktest/centering_operations.py:50\u001b[0m, in \u001b[0;36m<listcomp>\u001b[0;34m(.0)\u001b[0m\n\u001b[1;32m     45\u001b[0m cumul_effectifs \u001b[38;5;241m=\u001b[39m np\u001b[38;5;241m.\u001b[39mcumsum([\u001b[38;5;241m0\u001b[39m]\u001b[38;5;241m+\u001b[39meffectifs)\n\u001b[1;32m     46\u001b[0m L,n             \u001b[38;5;241m=\u001b[39m \u001b[38;5;28mlen\u001b[39m(effectifs),np\u001b[38;5;241m.\u001b[39msum(effectifs)\n\u001b[1;32m     47\u001b[0m diag_Jn_by_n \u001b[38;5;241m=\u001b[39m cat([\n\u001b[1;32m     48\u001b[0m                     cat([\n\u001b[1;32m     49\u001b[0m                             zeros(nprec,nell,dtype \u001b[38;5;241m=\u001b[39m torch\u001b[38;5;241m.\u001b[39mfloat64),\n\u001b[0;32m---> 50\u001b[0m                             \u001b[43mcompute_Jn_by_n\u001b[49m\u001b[43m(\u001b[49m\u001b[43mnell\u001b[49m\u001b[43m)\u001b[49m,\n\u001b[1;32m     51\u001b[0m                             zeros(n\u001b[38;5;241m-\u001b[39mnprec\u001b[38;5;241m-\u001b[39mnell,nell,dtype \u001b[38;5;241m=\u001b[39m torch\u001b[38;5;241m.\u001b[39mfloat64)\n\u001b[1;32m     52\u001b[0m                         ],dim\u001b[38;5;241m=\u001b[39m\u001b[38;5;241m0\u001b[39m) \n\u001b[1;32m     53\u001b[0m                         \u001b[38;5;28;01mfor\u001b[39;00m nell,nprec \u001b[38;5;129;01min\u001b[39;00m \u001b[38;5;28mzip\u001b[39m(effectifs,cumul_effectifs)\n\u001b[1;32m     54\u001b[0m                     ],dim\u001b[38;5;241m=\u001b[39m\u001b[38;5;241m1\u001b[39m)\n\u001b[1;32m     55\u001b[0m \u001b[38;5;28;01mreturn\u001b[39;00m(diag_Jn_by_n)\n",
      "File \u001b[0;32m~/miniconda3/envs/kfda/lib/python3.8/site-packages/ktest/centering_operations.py:27\u001b[0m, in \u001b[0;36mcompute_Jn_by_n\u001b[0;34m(n)\u001b[0m\n\u001b[1;32m     15\u001b[0m \u001b[38;5;28;01mdef\u001b[39;00m \u001b[38;5;21mcompute_Jn_by_n\u001b[39m(n):\n\u001b[1;32m     16\u001b[0m     \u001b[38;5;124;03m'''\u001b[39;00m\n\u001b[1;32m     17\u001b[0m \u001b[38;5;124;03m    returns the (n x n) matrix full of 1/n called Jn \u001b[39;00m\n\u001b[1;32m     18\u001b[0m \n\u001b[0;32m   (...)\u001b[0m\n\u001b[1;32m     25\u001b[0m \u001b[38;5;124;03m        Jn : torch.tensor, a (n x n) matrix full of 1/n\u001b[39;00m\n\u001b[1;32m     26\u001b[0m \u001b[38;5;124;03m    '''\u001b[39;00m\n\u001b[0;32m---> 27\u001b[0m     \u001b[38;5;28;01mreturn\u001b[39;00m(\u001b[38;5;241;43m1\u001b[39;49m\u001b[38;5;241;43m/\u001b[39;49m\u001b[43mn\u001b[49m\u001b[38;5;241m*\u001b[39mones(n,n,dtype \u001b[38;5;241m=\u001b[39m torch\u001b[38;5;241m.\u001b[39mfloat64))\n",
      "\u001b[0;31mZeroDivisionError\u001b[0m: division by zero"
     ]
    }
   ],
   "source": [
    "kt.multivariate_test(verbose=1)"
   ]
  },
  {
   "cell_type": "markdown",
   "id": "e7aa60ad",
   "metadata": {},
   "source": [
    "Use the nystrom approximation to reduce the computational cost"
   ]
  },
  {
   "cell_type": "code",
   "execution_count": 7,
   "id": "4f68fe25",
   "metadata": {},
   "outputs": [
    {
     "name": "stdout",
     "output_type": "stream",
     "text": [
      "- Initialize kfdat\n",
      "\tcov : nystrom3 \n",
      "\tmmd : standard\n",
      "- Initialize nystrom parameters\n",
      "- Compute nystrom landmarks (33 landmarks)\n",
      "- Compute nystrom anchors (32 anchors)\n",
      "- Diagonalize within covariance centered gram\n",
      "- Compute within covariance centered gram\n",
      "- Compute kfda statistic\n",
      "\n",
      "___Multivariate kfda with nystrom test results___\n",
      "Asymptotic p-value(truncation) for multivariate testing : \n",
      "\tp-value(10) = 4.5e-26 (kfda=144.74)\n"
     ]
    }
   ],
   "source": [
    "kt.set_test_params(nystrom=True)\n",
    "kt.multivariate_test(verbose=1)"
   ]
  },
  {
   "cell_type": "markdown",
   "id": "9d7859a9",
   "metadata": {},
   "source": [
    "Tune each parameter of the nystrom approximation "
   ]
  },
  {
   "cell_type": "code",
   "execution_count": 8,
   "id": "69c7abf3",
   "metadata": {},
   "outputs": [
    {
     "name": "stdout",
     "output_type": "stream",
     "text": [
      "- Initialize kfdat\n",
      "\tcov : nystrom3 \n",
      "\tmmd : standard\n",
      "- Initialize nystrom parameters\n",
      "- Compute nystrom landmarks (49 landmarks)\n",
      "- Compute nystrom anchors (49 anchors)\n",
      "- Diagonalize within covariance centered gram\n",
      "- Compute within covariance centered gram\n",
      "- Compute kfda statistic\n",
      "\n",
      "___Multivariate kfda with nystrom test results___\n",
      "Asymptotic p-value(truncation) for multivariate testing : \n",
      "\tp-value(10) = 1.2e-33 (kfda=181.42)\n"
     ]
    }
   ],
   "source": [
    "kt.set_test_params(nystrom=True,\n",
    "                    nlandmarks=50,\n",
    "                    nanchors=50,\n",
    "                    landmark_method='random',\n",
    "                    anchor_basis='s')\n",
    "kt.multivariate_test(verbose=1)\n"
   ]
  }
 ],
 "metadata": {
  "kernelspec": {
   "display_name": "Python 3 (ipykernel)",
   "language": "python",
   "name": "python3"
  },
  "language_info": {
   "codemirror_mode": {
    "name": "ipython",
    "version": 3
   },
   "file_extension": ".py",
   "mimetype": "text/x-python",
   "name": "python",
   "nbconvert_exporter": "python",
   "pygments_lexer": "ipython3",
   "version": "3.8.15"
  }
 },
 "nbformat": 4,
 "nbformat_minor": 5
}
