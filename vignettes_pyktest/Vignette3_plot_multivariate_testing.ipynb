{
 "cells": [
  {
   "cell_type": "code",
   "execution_count": 1,
   "id": "1cf84ea7",
   "metadata": {},
   "outputs": [],
   "source": [
    "import pandas as pd\n",
    "from pyktest.tester import Ktest"
   ]
  },
  {
   "cell_type": "code",
   "execution_count": 2,
   "id": "6ef7ab87",
   "metadata": {},
   "outputs": [
    {
     "data": {
      "text/plain": [
       "An object of class Ktest\n",
       "83 features accros 344 observations within 1 assays (active : data)\n",
       "Comparison : 0H (173 obs) and 48HREV (171 obs) (from column 'condition' in metadata)\n",
       "Test statistic : kfda\n",
       "___Multivariate kfda test results___\n",
       "Asymptotic p-value(truncation) for multivariate testing : \n",
       "\tp-value(10) = 3.9e-23 (kfda=130.41)\n",
       "___Univariate tests results___\n",
       "Univariate test not performed yet, run ktest.univariate_test()"
      ]
     },
     "execution_count": 2,
     "metadata": {},
     "output_type": "execute_result"
    }
   ],
   "source": [
    "data = pd.read_csv('data.csv',index_col=0)\n",
    "metadata = pd.read_csv('metadata.csv',index_col=0)\n",
    "kt = Ktest(data,metadata,condition='condition')\n",
    "kt.multivariate_test(verbose=0)\n",
    "kt"
   ]
  },
  {
   "cell_type": "markdown",
   "id": "5a867845",
   "metadata": {},
   "source": [
    "It is possible to extract data project observations on discriminant axis"
   ]
  },
  {
   "cell_type": "code",
   "execution_count": 7,
   "id": "fee31b15",
   "metadata": {},
   "outputs": [
    {
     "name": "stdout",
     "output_type": "stream",
     "text": [
      "proj kfda 'standard_datacondition' has not been computed yet\n"
     ]
    },
    {
     "data": {
      "text/plain": [
       "Index(['REV1.0H.1', 'REV1.0H.2', 'REV1.0H.3', 'REV1.0H.4', 'REV1.0H.5',\n",
       "       'REV1.0H.6', 'REV1.0H.7', 'REV1.0H.8', 'REV1.0H.9', 'REV1.0H.10',\n",
       "       ...\n",
       "       'REV8.48HREV.14', 'REV8.48HREV.15', 'REV8.48HREV.16', 'REV8.48HREV.17',\n",
       "       'REV8.48HREV.18', 'REV8.48HREV.19', 'REV8.48HREV.20', 'REV8.48HREV.21',\n",
       "       'REV8.48HREV.22', 'REV8.48HREV.23'],\n",
       "      dtype='object', length=344)"
      ]
     },
     "execution_count": 7,
     "metadata": {},
     "output_type": "execute_result"
    }
   ],
   "source": [
    "kt.residuals()\n",
    "kt.init_df_proj('proj_kfda')\n",
    "kt.init_df_proj('betaglobin')\n",
    "# kt.init_df_proj('obs')\n",
    "# kt.get_proj_kfda()\n",
    "kt.get_index(samples=['0H','48HREV'],in_dict=False)"
   ]
  },
  {
   "cell_type": "code",
   "execution_count": null,
   "id": "b49f5139",
   "metadata": {},
   "outputs": [],
   "source": [
    "\n",
    "kt.get_diagnostics()\n",
    "\n",
    "def get_projections(self,\n",
    "                    t,\n",
    "                    discriminant_axis=False,\n",
    "                    principal_components=False,\n",
    "                    residuals=False,\n",
    "                    mmd=False\n",
    "                    unidirectional_mmd=False,\n",
    "                    condition=None,\n",
    "                    samples=None,\n",
    "                    marked_obs_to_ignore=None\n",
    "                    unique_truncation = True,\n",
    "                    separated_dataframes = True \n",
    "                   ):\n",
    "        \n",
    "    df = pd.DataFrame(index=self.get_index(samples='all',in_dict=False)\n",
    "    if discriminant_axis:\n",
    "        df = pd.concat([df,self.init_df_proj('proj_kfda')[t]],axis=1)\n",
    "    if principal_components:\n",
    "        df = pd.concat([df,self.init_df_proj('proj_kpca')[t]],axis=1)\n",
    "    if residuals:\n",
    "        df = pd.concat([df,self.init_df_proj('proj_residuals')[t]],axis=1)\n",
    "    if mmd:\n",
    "        df = pd.concat([df,self.init_df_proj('proj_mmd')[t]],axis=1)\n",
    "    if unidirectional_mmd:\n",
    "        df = pd.concat([df,self.init_df_proj('proj_tmmd')[t]],axis=1)\n",
    "    \n",
    "        \n",
    "    \n",
    "        \n",
    "        \n",
    "# kt.hist_discriminant(t=10)\n"
   ]
  },
  {
   "cell_type": "markdown",
   "id": "9e6b696b",
   "metadata": {},
   "source": [
    "discriminant axis(t) on x-axis pc(t+1) on y-axis "
   ]
  },
  {
   "cell_type": "code",
   "execution_count": null,
   "id": "c6a59e00",
   "metadata": {},
   "outputs": [],
   "source": [
    "kt.plot_nextPC(t=1)"
   ]
  },
  {
   "cell_type": "code",
   "execution_count": null,
   "id": "52c7ce03",
   "metadata": {},
   "outputs": [],
   "source": []
  }
 ],
 "metadata": {
  "kernelspec": {
   "display_name": "Python 3 (ipykernel)",
   "language": "python",
   "name": "python3"
  },
  "language_info": {
   "codemirror_mode": {
    "name": "ipython",
    "version": 3
   },
   "file_extension": ".py",
   "mimetype": "text/x-python",
   "name": "python",
   "nbconvert_exporter": "python",
   "pygments_lexer": "ipython3",
   "version": "3.8.15"
  }
 },
 "nbformat": 4,
 "nbformat_minor": 5
}
