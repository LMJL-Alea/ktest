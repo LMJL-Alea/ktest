{
 "cells": [
  {
   "cell_type": "code",
   "execution_count": 1,
   "id": "239a5dee",
   "metadata": {},
   "outputs": [],
   "source": [
    "import pandas as pd\n",
    "from ktest.tester import Ktest"
   ]
  },
  {
   "cell_type": "markdown",
   "id": "079fa94b",
   "metadata": {},
   "source": [
    "### Perform univariate testing (differential expression analysis) on all the genes"
   ]
  },
  {
   "cell_type": "code",
   "execution_count": 3,
   "id": "239c6c78",
   "metadata": {},
   "outputs": [],
   "source": [
    "data = pd.read_csv('data.csv',index_col=0)\n",
    "metadata = pd.read_csv('metadata.csv',index_col=0)\n",
    "kt = Ktest(data,metadata,condition='condition',nystrom=True)"
   ]
  },
  {
   "cell_type": "markdown",
   "id": "367d7b67",
   "metadata": {},
   "source": [
    "Perform univariate testing on all the genes.\n",
    "\n",
    "\n",
    "- `n_jobs` : Parallelize the jobs on `n_jobs` CPUs if possible\n",
    "- `save_path` : Save the results in the `save_path` directory \n",
    "- `lots` : Divide the total set of variables to test in sets of size `lots` to save intermediate results.\n",
    "- `name` : Use `name` to refer to this set of tests if you aim at testing different groups of variables separately (See section **Perform multiple testing on different pathways** for more details).  \n",
    "- `truncations_of_interest` : the test results to keep (default =10 mais pour l'instant je vais garder défaut = 1:30) \n",
    "- `diagnostics` : Set as `True` to compute the diagnostic metrics for each variables \n",
    "- `t_diagnostics` : The diagnostic metrics are saved for truncations 1 to `t_diagnostic`  \n",
    "- `verbose` : Whatch the job in progress with `verbose > 0`\n"
   ]
  },
  {
   "cell_type": "code",
   "execution_count": 4,
   "id": "59f58d3c",
   "metadata": {},
   "outputs": [
    {
     "name": "stdout",
     "output_type": "stream",
     "text": [
      "- Load univariate test results from \n",
      "\tdir: ./\n",
      "\tfile: all_variables_ny_lmrandom_m33_basisw_datacondition_univariate.csv\n",
      "- Loaded univariate test results : (83, 25)\n",
      "- Update var with 25 columns\n",
      "- No variable to test\n",
      "- Load univariate test results from \n",
      "\tdir: ./\n",
      "\tfile: all_variables_ny_lmrandom_m33_basisw_datacondition_univariate.csv\n",
      "- Loaded univariate test results : (83, 25)\n",
      "- Saving univariate test results of all_variables in \n",
      "\tdir: ./\n",
      "\tfile:all_variables_ny_lmrandom_m33_basisw_datacondition_univariate.csv ((83, 25))\n"
     ]
    }
   ],
   "source": [
    "kt.univariate_test(n_jobs=4,lots=20,verbose=1,name='all_variables',\n",
    "                  save_path='./')"
   ]
  },
  {
   "cell_type": "markdown",
   "id": "2e63c517",
   "metadata": {},
   "source": [
    "The function does not repeat the computation if not necessary "
   ]
  },
  {
   "cell_type": "code",
   "execution_count": 5,
   "id": "e061d5c5",
   "metadata": {},
   "outputs": [
    {
     "name": "stdout",
     "output_type": "stream",
     "text": [
      "- No variable to test\n"
     ]
    }
   ],
   "source": [
    "kt.univariate_test(verbose=1)"
   ]
  },
  {
   "cell_type": "markdown",
   "id": "895936aa",
   "metadata": {},
   "source": [
    "---"
   ]
  },
  {
   "cell_type": "markdown",
   "id": "37c3e8af",
   "metadata": {},
   "source": [
    "Print summarized results :\n",
    "- `t` is the truncation parameter of interest (default is 10).\n",
    "- Set `long` as `True` for detailled information.\n",
    "- set `corrected` as `False` to have the raw p-values not corrected with the Benjamini-Hochberg approach for multiple testing.\n",
    "- `ntop` number of top DE variables to print.\n",
    "- `threshold` : test rejection threshold. A variable is considered as DE if `p-value < threshold`.\n",
    "- Set `log2fc` as `True` to print the log2fc of the displayed DE variables if possible. "
   ]
  },
  {
   "cell_type": "code",
   "execution_count": 6,
   "id": "919ee8a5",
   "metadata": {},
   "outputs": [
    {
     "name": "stdout",
     "output_type": "stream",
     "text": [
      "\n",
      "___Univariate tests results___\n",
      "5 DE genes for t=10 and threshold=0.05 (with BH correction)\n",
      "Top 3 DE genes (with BH correction): \n",
      "PLS1, SLC6A9, STX12\n"
     ]
    }
   ],
   "source": [
    "kt.print_univariate_test_results(ntop=3)"
   ]
  },
  {
   "cell_type": "markdown",
   "id": "9372148a",
   "metadata": {},
   "source": [
    "Get the resulting p-values in a Pandas.Series :\n",
    "- `t` is the truncation parameter of interest\n",
    "- set `corrected` as `False` to have the raw p-values not corrected with the Benjamini-Hochberg approach for multiple testing."
   ]
  },
  {
   "cell_type": "code",
   "execution_count": 7,
   "id": "100520fb",
   "metadata": {},
   "outputs": [
    {
     "name": "stdout",
     "output_type": "stream",
     "text": [
      "Warning : only 21 variables were corrected out of 83 tested variables\n"
     ]
    },
    {
     "data": {
      "text/plain": [
       "PLS1       2.841728e-07\n",
       "SLC6A9     2.448390e-06\n",
       "STX12      2.448390e-06\n",
       "NCOA4      1.007764e-05\n",
       "PIK3CG     1.633637e-02\n",
       "               ...     \n",
       "TPP1                NaN\n",
       "TTYH2               NaN\n",
       "UCK1                NaN\n",
       "VDAC3               NaN\n",
       "XPNPEP1             NaN\n",
       "Name: all_variables_ny_lmrandom_m33_basisw_datacondition_t10_pvalBHc, Length: 83, dtype: float64"
      ]
     },
     "execution_count": 7,
     "metadata": {},
     "output_type": "execute_result"
    }
   ],
   "source": [
    "kt.get_pvals_univariate(verbose=2)"
   ]
  },
  {
   "cell_type": "markdown",
   "id": "0c362289",
   "metadata": {},
   "source": [
    "Get the resulting p-values of DE genes only :\n",
    "- `t` is the truncation parameter of interest.\n",
    "- set `corrected` as `False` to have the raw p-values not corrected with the Benjamini-Hochberg approach for multiple testing.\n",
    "- `threshold` : test rejection threshold. A variable is considered as DE if `p-value < threshold`."
   ]
  },
  {
   "cell_type": "code",
   "execution_count": 8,
   "id": "f3400702",
   "metadata": {},
   "outputs": [
    {
     "name": "stdout",
     "output_type": "stream",
     "text": [
      "Warning : only 21 variables were corrected out of 83 tested variables\n"
     ]
    },
    {
     "data": {
      "text/plain": [
       "PLS1      2.841728e-07\n",
       "SLC6A9    2.448390e-06\n",
       "STX12     2.448390e-06\n",
       "NCOA4     1.007764e-05\n",
       "PIK3CG    1.633637e-02\n",
       "Name: all_variables_ny_lmrandom_m33_basisw_datacondition_t10_pvalBHc, dtype: float64"
      ]
     },
     "execution_count": 8,
     "metadata": {},
     "output_type": "execute_result"
    }
   ],
   "source": [
    "kt.get_DE_genes(verbose=1)"
   ]
  },
  {
   "cell_type": "markdown",
   "id": "3ce0ff0e",
   "metadata": {},
   "source": [
    "###  Perform multiple testing on different pathways"
   ]
  },
  {
   "cell_type": "markdown",
   "id": "c1e5af68",
   "metadata": {},
   "source": [
    "Define the pathways of interest (the following pathways are random, they do not have biological meaning). "
   ]
  },
  {
   "cell_type": "code",
   "execution_count": 9,
   "id": "d2d86127",
   "metadata": {},
   "outputs": [],
   "source": [
    "pathway1 = ['CTCF', 'CTSA', 'CYP51A1', 'DCP1A', 'DCTD', 'DHCR24', 'DHCR7', 'DPP7']\n",
    "pathway2 = ['MAPK12', 'MFSD2B', 'MID2', 'MKNK2', 'MTFR1', 'MVD', 'MYO1G', 'NCOA4']\n",
    "pathway3 = ['NSDHL', 'PDLIM7', 'PIK3CG', 'PLAG1', 'PLS1', 'PLS3', 'PPP1R15B']\n"
   ]
  },
  {
   "cell_type": "markdown",
   "id": "8be4de69",
   "metadata": {},
   "source": [
    "Perform univariate testing on each pathway "
   ]
  },
  {
   "cell_type": "code",
   "execution_count": 10,
   "id": "fc095ecf",
   "metadata": {},
   "outputs": [
    {
     "name": "stdout",
     "output_type": "stream",
     "text": [
      "\n",
      "\n",
      "- Load univariate test results from \n",
      "\tdir: ./\n",
      "\tfile: pathway3_ny_lmrandom_m33_basisw_datacondition_univariate.csv\n",
      "- Loaded univariate test results : (7, 21)\n",
      "- Update var with 21 columns\n",
      "- No variable to test\n",
      "- Load univariate test results from \n",
      "\tdir: ./\n",
      "\tfile: pathway3_ny_lmrandom_m33_basisw_datacondition_univariate.csv\n",
      "- Loaded univariate test results : (7, 21)\n",
      "- Saving univariate test results of pathway3 in \n",
      "\tdir: ./\n",
      "\tfile:pathway3_ny_lmrandom_m33_basisw_datacondition_univariate.csv ((7, 21))\n"
     ]
    }
   ],
   "source": [
    "kt.univariate_test(variables_to_test=pathway1,name='pathway1')\n",
    "kt.univariate_test(variables_to_test=pathway2,name='pathway2')\n",
    "kt.univariate_test(variables_to_test=pathway3,name='pathway3',save_path='./',verbose=1)"
   ]
  },
  {
   "cell_type": "markdown",
   "id": "bdcf9ba5",
   "metadata": {},
   "source": [
    "By default, the functions `print_univariate_test_results`, `get_pvals_univariate` and `get_DEgenes` refer to the last tested set of variables (here it is `pathway3`): "
   ]
  },
  {
   "cell_type": "code",
   "execution_count": 11,
   "id": "035fdb02",
   "metadata": {},
   "outputs": [
    {
     "name": "stdout",
     "output_type": "stream",
     "text": [
      "\n",
      "___Univariate tests results___\n",
      "7 tested variables out of 83 variables\n",
      "0 DE genes for t=10 and threshold=0.05 (with BH correction)\n"
     ]
    }
   ],
   "source": [
    "kt.print_univariate_test_results()"
   ]
  },
  {
   "cell_type": "markdown",
   "id": "5754f751",
   "metadata": {},
   "source": [
    "Print or get the results of `pathway1` using parameter `name` "
   ]
  },
  {
   "cell_type": "code",
   "execution_count": 12,
   "id": "ff86ca8d",
   "metadata": {},
   "outputs": [
    {
     "name": "stdout",
     "output_type": "stream",
     "text": [
      "\n",
      "___Univariate tests results___\n",
      "7 tested variables out of 83 variables\n",
      "2 DE genes for t=10 and threshold=0.05 (with BH correction)\n",
      "Top 5 DE genes (with BH correction): \n",
      "CTSA, CYP51A1\n"
     ]
    },
    {
     "data": {
      "text/plain": [
       "CTSA       7.042543e-23\n",
       "DCP1A      1.521817e-07\n",
       "DCTD       9.936203e-06\n",
       "CYP51A1    3.675143e-04\n",
       "DPP7       6.105009e-02\n",
       "DHCR7      3.168313e-01\n",
       "CTCF       4.795130e-01\n",
       "DHCR24     4.795130e-01\n",
       "Name: pathway1_ny_lmrandom_m33_basisw_datacondition_t2_pvalBHc, dtype: float64"
      ]
     },
     "execution_count": 12,
     "metadata": {},
     "output_type": "execute_result"
    }
   ],
   "source": [
    "kt.print_univariate_test_results(name='pathway1')\n",
    "kt.get_pvals_univariate(t=2,name='pathway1')\n"
   ]
  },
  {
   "cell_type": "markdown",
   "id": "3d03e544",
   "metadata": {},
   "source": [
    "Save univariate test results afterwards :\n",
    "- `save_path`: directory in which to save the result .csv file\n",
    "- `name` : name of the set of univariate test results to save. \n",
    "- `overwrite` : overwrite an eventual existing result file if True, add new results in it if False.  "
   ]
  },
  {
   "cell_type": "code",
   "execution_count": 13,
   "id": "4ee07139",
   "metadata": {},
   "outputs": [
    {
     "name": "stdout",
     "output_type": "stream",
     "text": [
      "- Load univariate test results from \n",
      "\tdir: ./\n",
      "\tfile: pathway1_ny_lmrandom_m33_basisw_datacondition_univariate.csv\n",
      "- Loaded univariate test results : (8, 25)\n",
      "- Saving univariate test results of pathway1 in \n",
      "\tdir: ./\n",
      "\tfile:pathway1_ny_lmrandom_m33_basisw_datacondition_univariate.csv ((8, 25))\n"
     ]
    }
   ],
   "source": [
    "kt.save_univariate_results(save_path = './',name='pathway1',verbose=1)"
   ]
  },
  {
   "cell_type": "code",
   "execution_count": null,
   "id": "0800e056",
   "metadata": {},
   "outputs": [],
   "source": []
  },
  {
   "cell_type": "code",
   "execution_count": null,
   "id": "a5daff8e",
   "metadata": {},
   "outputs": [],
   "source": []
  }
 ],
 "metadata": {
  "kernelspec": {
   "display_name": "Python 3 (ipykernel)",
   "language": "python",
   "name": "python3"
  },
  "language_info": {
   "codemirror_mode": {
    "name": "ipython",
    "version": 3
   },
   "file_extension": ".py",
   "mimetype": "text/x-python",
   "name": "python",
   "nbconvert_exporter": "python",
   "pygments_lexer": "ipython3",
   "version": "3.8.15"
  }
 },
 "nbformat": 4,
 "nbformat_minor": 5
}
